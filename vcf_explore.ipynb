{
 "cells": [
  {
   "cell_type": "code",
   "execution_count": 1,
   "id": "7545b835-9a13-4e16-b021-db16fc093ffd",
   "metadata": {},
   "outputs": [
    {
     "name": "stderr",
     "output_type": "stream",
     "text": [
      "/home/bscuser/.local/lib/python3.10/site-packages/matplotlib/projections/__init__.py:63: UserWarning: Unable to import Axes3D. This may be due to multiple versions of Matplotlib being installed (e.g. as a system package and as a pip package). As a result, the 3D projection is not available.\n",
      "  warnings.warn(\"Unable to import Axes3D. This may be due to multiple versions of \"\n"
     ]
    }
   ],
   "source": [
    "from variant_extractor import VariantExtractor\n",
    "import matplotlib.pyplot as plt\n",
    "import numpy as np"
   ]
  },
  {
   "cell_type": "code",
   "execution_count": 2,
   "id": "4a5dbb37-35f2-4edf-9171-070dbe57c75c",
   "metadata": {},
   "outputs": [
    {
     "name": "stderr",
     "output_type": "stream",
     "text": [
      "[W::vcf_parse] Contig '1' is not defined in the header. (Quick workaround: index the file with tabix.)\n",
      "[W::vcf_parse_info] INFO '3pContext' is not defined in the header, assuming Type=String\n",
      "[W::bcf_hrec_check] Invalid tag name: \"3pContext\"\n",
      "[W::vcf_parse_info] INFO '5pContext' is not defined in the header, assuming Type=String\n",
      "[W::bcf_hrec_check] Invalid tag name: \"5pContext\"\n",
      "[W::vcf_parse_info] INFO 'Callers' is not defined in the header, assuming Type=String\n",
      "[W::vcf_parse_info] INFO 'NormalEvidenceReads' is not defined in the header, assuming Type=String\n",
      "[W::vcf_parse_info] INFO 'NormalReads' is not defined in the header, assuming Type=String\n",
      "[W::vcf_parse_info] INFO 'RepeatRefCount' is not defined in the header, assuming Type=String\n",
      "[W::vcf_parse_info] INFO 'TumourEvidenceReads' is not defined in the header, assuming Type=String\n",
      "[W::vcf_parse_info] INFO 'TumourReads' is not defined in the header, assuming Type=String\n",
      "[W::vcf_parse_info] INFO 'RepeatUnit' is not defined in the header, assuming Type=String\n",
      "[W::vcf_parse] Contig '2' is not defined in the header. (Quick workaround: index the file with tabix.)\n",
      "[W::vcf_parse] Contig '3' is not defined in the header. (Quick workaround: index the file with tabix.)\n",
      "[W::vcf_parse] Contig '4' is not defined in the header. (Quick workaround: index the file with tabix.)\n",
      "[W::vcf_parse] Contig '5' is not defined in the header. (Quick workaround: index the file with tabix.)\n",
      "[W::vcf_parse] Contig '6' is not defined in the header. (Quick workaround: index the file with tabix.)\n",
      "[W::vcf_parse] Contig '7' is not defined in the header. (Quick workaround: index the file with tabix.)\n",
      "[W::vcf_parse] Contig '8' is not defined in the header. (Quick workaround: index the file with tabix.)\n",
      "[W::vcf_parse] Contig '9' is not defined in the header. (Quick workaround: index the file with tabix.)\n",
      "[W::vcf_parse] Contig '10' is not defined in the header. (Quick workaround: index the file with tabix.)\n",
      "[W::vcf_parse] Contig '11' is not defined in the header. (Quick workaround: index the file with tabix.)\n",
      "[W::vcf_parse] Contig '12' is not defined in the header. (Quick workaround: index the file with tabix.)\n",
      "[W::vcf_parse] Contig '13' is not defined in the header. (Quick workaround: index the file with tabix.)\n",
      "[W::vcf_parse] Contig '14' is not defined in the header. (Quick workaround: index the file with tabix.)\n",
      "[W::vcf_parse] Contig '15' is not defined in the header. (Quick workaround: index the file with tabix.)\n",
      "[W::vcf_parse] Contig '16' is not defined in the header. (Quick workaround: index the file with tabix.)\n",
      "[W::vcf_parse] Contig '17' is not defined in the header. (Quick workaround: index the file with tabix.)\n",
      "[W::vcf_parse] Contig '18' is not defined in the header. (Quick workaround: index the file with tabix.)\n",
      "[W::vcf_parse] Contig '19' is not defined in the header. (Quick workaround: index the file with tabix.)\n",
      "[W::vcf_parse] Contig '20' is not defined in the header. (Quick workaround: index the file with tabix.)\n",
      "[W::vcf_parse] Contig '21' is not defined in the header. (Quick workaround: index the file with tabix.)\n",
      "[W::vcf_parse] Contig '22' is not defined in the header. (Quick workaround: index the file with tabix.)\n",
      "[W::vcf_parse] Contig 'X' is not defined in the header. (Quick workaround: index the file with tabix.)\n",
      "[W::vcf_parse] Contig 'Y' is not defined in the header. (Quick workaround: index the file with tabix.)\n",
      "[W::vcf_parse_info] INFO 'NormalBp1ClipEvidence' is not defined in the header, assuming Type=String\n",
      "[W::vcf_parse_info] INFO 'NormalBp2ClipEvidence' is not defined in the header, assuming Type=String\n",
      "[W::vcf_parse_info] INFO 'TumourBp1ClipEvidence' is not defined in the header, assuming Type=String\n",
      "[W::vcf_parse_info] INFO 'TumourBp2ClipEvidence' is not defined in the header, assuming Type=String\n",
      "[W::vcf_parse_info] INFO 'varlen' is not defined in the header, assuming Type=String\n",
      "[W::vcf_parse_info] INFO 'FIXED' is not defined in the header, assuming Type=String\n"
     ]
    }
   ],
   "source": [
    "vcf_file = \"/home/bscuser/Desktop/Obfuscation/mosaic_genome_PCAWG_1.vcf\"\n",
    "extractor = VariantExtractor(vcf_file)\n",
    "\n",
    "# Rodrigo\n",
    "#print(extractor.to_dataframe()['type_inferred'].value_counts())\n",
    "\n",
    "# create a dict to store the variants type\n",
    "var_dict = {}\n",
    "\n",
    "# iterate to get each variant type\n",
    "for variant in extractor:\n",
    "    key = variant.variant_type.name\n",
    "    if key not in var_dict:\n",
    "        var_dict[key] = 1\n",
    "    else:\n",
    "        var_dict[key] += 1"
   ]
  },
  {
   "cell_type": "code",
   "execution_count": 3,
   "id": "22d26c83-37ff-4cd2-aff1-9078aa5fc3d3",
   "metadata": {},
   "outputs": [
    {
     "name": "stdout",
     "output_type": "stream",
     "text": [
      "{'DEL': 2791, 'SNV': 5000, 'INS': 2500, 'INV': 236, 'TRA': 153, 'DUP': 106}\n"
     ]
    }
   ],
   "source": [
    "print(var_dict)"
   ]
  },
  {
   "cell_type": "code",
   "execution_count": 4,
   "id": "2e43bcd9-e28b-416a-a668-13bf6e2c9445",
   "metadata": {},
   "outputs": [
    {
     "name": "stdout",
     "output_type": "stream",
     "text": [
      "10786\n"
     ]
    }
   ],
   "source": [
    "total_vars = sum(var_dict.values())\n",
    "print(total_vars)"
   ]
  },
  {
   "cell_type": "code",
   "execution_count": 7,
   "id": "6db6be91-587b-4608-902c-1ea2999d5ce9",
   "metadata": {},
   "outputs": [
    {
     "data": {
      "image/png": "[encoded data removed]",
      "text/plain": [
       "<Figure size 640x480 with 1 Axes>"
      ]
     },
     "metadata": {},
     "output_type": "display_data"
    }
   ],
   "source": [
    "# Extracting variant types and counts\n",
    "variant_types = list(var_dict.keys())\n",
    "counts = list(var_dict.values())\n",
    "\n",
    "# Creating a bar plot\n",
    "plt.bar(variant_types, counts, color='skyblue')\n",
    "\n",
    "# Adding labels and title\n",
    "plt.ylabel('Count')\n",
    "\n",
    "# Rotating x-axis labels for better visibility\n",
    "plt.xticks(rotation=45)\n",
    "\n",
    "# Displaying the plot\n",
    "plt.tight_layout()\n",
    "plt.show()"
   ]
  },
  {
   "cell_type": "code",
   "execution_count": null,
   "id": "ca30467c-89bc-4d39-8523-be135e896a11",
   "metadata": {},
   "outputs": [],
   "source": []
  }
 ],
 "metadata": {
  "kernelspec": {
   "display_name": "Python 3 (ipykernel)",
   "language": "python",
   "name": "python3"
  },
  "language_info": {
   "codemirror_mode": {
    "name": "ipython",
    "version": 3
   },
   "file_extension": ".py",
   "mimetype": "text/x-python",
   "name": "python",
   "nbconvert_exporter": "python",
   "pygments_lexer": "ipython3",
   "version": "3.10.12"
  }
 },
 "nbformat": 4,
 "nbformat_minor": 5
}
